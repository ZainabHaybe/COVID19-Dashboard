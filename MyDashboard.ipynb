{
 "cells": [
  {
   "cell_type": "markdown",
   "id": "fa2a6154-60bd-4e2f-93cd-b19afccc9165",
   "metadata": {},
   "source": [
    "## Number of COVID Cases and Deaths by Sex and Age"
   ]
  },
  {
   "cell_type": "code",
   "execution_count": 1,
   "id": "6b4362b7-fb36-4c3c-872b-8c2878e6f0b0",
   "metadata": {},
   "outputs": [],
   "source": [
    "from IPython.display import clear_output\n",
    "import ipywidgets as wdg\n",
    "import pandas as pd\n",
    "import numpy as np\n",
    "import matplotlib.pyplot as plt\n",
    "import json\n",
    "from uk_covid19 import Cov19API"
   ]
  },
  {
   "cell_type": "code",
   "execution_count": 2,
   "id": "818a9359-8843-4297-b606-f0b70792f483",
   "metadata": {},
   "outputs": [],
   "source": [
    "%matplotlib inline\n",
    "# make figures larger\n",
    "plt.rcParams['figure.dpi'] = 100"
   ]
  },
  {
   "cell_type": "code",
   "execution_count": 9,
   "id": "b5f33e40-6fe9-4164-b20c-b4d878c79f94",
   "metadata": {},
   "outputs": [],
   "source": [
    "# Load JSON files and store the raw data in some variable. Edit as appropriate\n",
    "from uk_covid19 import Cov19API\n",
    "import json\n",
    "\n",
    "filters = [\n",
    "    'areaType=nation',\n",
    "    'areaName=England'\n",
    "]\n",
    "structure = {\n",
    "    \"males\": \"maleCases\",\n",
    "    \"maledeaths\": \"maleDeaths28Days\",\n",
    "    \"females\": \"femaleCases\",\n",
    "    \"femaledeaths\": \"femaleDeaths28Days\"\n",
    "}\n",
    "\n",
    "api = Cov19API(filters=filters, structure=structure)\n",
    "\n",
    "GenAgeDistribution=api.get_json()\n",
    "\n",
    "with open(\"GenAgeDistribution\", \"wt\") as OUTF:\n",
    "    json.dump(GenAgeDistribution, OUTF)"
   ]
  },
  {
   "cell_type": "code",
   "execution_count": 15,
   "id": "aa5a766d-41e0-4307-bfec-91a411260049",
   "metadata": {},
   "outputs": [],
   "source": [
    "def wrangle_data(rawdata):\n",
    "    with open(\"GenAgeDistribution\", \"rt\") as INFILE:\n",
    "        data=json.load(INFILE)\n",
    "        \n",
    "    datadic=data['data'][0]\n",
    "    males=datadic['males']\n",
    "    females=datadic['females']\n",
    "    maledeaths=datadic[\"maledeaths\"]\n",
    "    femaledeaths=datadic[\"femaledeaths\"]\n",
    "    \n",
    "    ageranges=[x['age'] for x in males]\n",
    "    \n",
    "    def min_age(agerange):\n",
    "        agerange=agerange.replace('+','') # remove the + from 90+\n",
    "        start=agerange.split('_')[0]\n",
    "        return int(start)\n",
    "    ageranges.sort(key=min_age)\n",
    "    \n",
    "    df=pd.DataFrame(index=ageranges, columns=['males', 'maledeaths','females', 'femaledeaths'])\n",
    "    \n",
    "    for entry in males: \n",
    "        ageband=entry['age'] \n",
    "        df.loc[ageband, 'males']=entry['value']\n",
    "    for entry in maledeaths: \n",
    "        ageband=entry['age'] \n",
    "        df.loc[ageband, 'maledeaths']=entry['value']\n",
    "    for entry in females:\n",
    "        ageband=entry['age']\n",
    "        df.loc[ageband, 'females']=entry['value']\n",
    "    \n",
    "    for entry in femaledeaths:\n",
    "        ageband=entry['age']\n",
    "        df.loc[ageband, 'femaledeaths']=entry['value']\n",
    "    return df\n",
    "\n",
    "GenAge_df=wrangle_data(GenAgeDistribution)"
   ]
  },
  {
   "cell_type": "markdown",
   "id": "27fc5902-03c7-460e-b9fc-0cd3d3d12c48",
   "metadata": {},
   "source": [
    "Please click \"Refresh Data\" to ensure that the graphs below have the most up to date data from the Public Health of England. "
   ]
  },
  {
   "cell_type": "code",
   "execution_count": 18,
   "id": "2777445f-f11c-4785-a769-bdf4f6e05596",
   "metadata": {},
   "outputs": [],
   "source": [
    "def access_api():\n",
    "    from uk_covid19 import Cov19API\n",
    "    import json\n",
    "\n",
    "    filters = [\n",
    "    'areaType=nation',\n",
    "    'areaName=England'\n",
    "]\n",
    "    structure = {\n",
    "    \"males\": \"maleCases\",\n",
    "    \"maledeaths\": \"maleDeaths28Days\",\n",
    "    \"females\": \"femaleCases\",\n",
    "    \"femaledeaths\": \"femaleDeaths28Days\"\n",
    "}\n",
    "\n",
    "    api = Cov19API(filters=filters, structure=structure)\n",
    "\n",
    "    GenAgeDistribution=api.get_json()\n",
    "    return GenAgeDistribution"
   ]
  },
  {
   "cell_type": "code",
   "execution_count": 19,
   "id": "a74da1d5-4c9b-464b-962b-7cac864c7199",
   "metadata": {},
   "outputs": [
    {
     "data": {
      "application/vnd.jupyter.widget-view+json": {
       "model_id": "84421dc5a9714183a8baa8c31b521d4d",
       "version_major": 2,
       "version_minor": 0
      },
      "text/plain": [
       "Button(button_style='info', description='Refresh Data', icon='download', style=ButtonStyle(), tooltip='Click t…"
      ]
     },
     "metadata": {},
     "output_type": "display_data"
    }
   ],
   "source": [
    "def api_button_callback(button):\n",
    "    apidata=access_api()\n",
    "    global df\n",
    "    df=wrangle_data(GenAgeDistribution)\n",
    "    apibutton.icon=\"check\"\n",
    "    apibutton.disabled=True\n",
    "        \n",
    "apibutton=wdg.Button(\n",
    "    description='Refresh Data', # you may want to change this...\n",
    "    disabled=False,\n",
    "    button_style='info', # 'success', 'info', 'warning', 'danger' or ''\n",
    "    tooltip=\"Click to download current Public Health England data\",\n",
    "    # FontAwesome names without the `fa-` prefix - try \"download\"\n",
    "    icon='download'\n",
    ")\n",
    "\n",
    "apibutton.on_click(api_button_callback)\n",
    "display(apibutton)"
   ]
  },
  {
   "cell_type": "markdown",
   "id": "0406c675-3adf-4898-bb2d-e8f347560bf4",
   "metadata": {},
   "source": [
    "## Number of COVID cases in Males and Females by age group in England\n",
    "\n",
    "The below graph shows the number of COVID cases seperated by Males and Females in the age groups from 0 to 90+. The data presented only includes cases in England. To see data for each sex seperately, please select males or females in the sex category. To compare male and female cases, please hold control and click on both males and females. "
   ]
  },
  {
   "cell_type": "code",
   "execution_count": 24,
   "id": "028da595-69fe-45a1-86a6-3d6e38db8e0a",
   "metadata": {},
   "outputs": [
    {
     "data": {
      "application/vnd.jupyter.widget-view+json": {
       "model_id": "87bb8350ef864b7d96b8b5bae77e75ec",
       "version_major": 2,
       "version_minor": 0
      },
      "text/plain": [
       "SelectMultiple(description='sex', index=(0, 1), options=('males', 'females'), rows=2, value=('males', 'females…"
      ]
     },
     "metadata": {},
     "output_type": "display_data"
    },
    {
     "data": {
      "application/vnd.jupyter.widget-view+json": {
       "model_id": "b29cfbd4a24445aba2b8f0d00120e543",
       "version_major": 2,
       "version_minor": 0
      },
      "text/plain": [
       "Output()"
      ]
     },
     "metadata": {},
     "output_type": "display_data"
    }
   ],
   "source": [
    "def GenAge_Plot(graphcolumns):\n",
    "    ncols=len(graphcolumns)\n",
    "    if ncols>0:\n",
    "        GenAge_df.plot(kind='bar', y=list(graphcolumns)) # graphcolumns is a tuple - we need a list\n",
    "        plt.show() # important - graphs won't update properly if this is missing\n",
    "    else:\n",
    "        # if the user has not selected any column, print a message instead\n",
    "        print(\"Click to select data for graph\")\n",
    "        print(\"(CTRL-Click to select more than one category)\")\n",
    "\n",
    "GenAgecols=wdg.SelectMultiple(\n",
    "    options=['males', 'females'], # options available\n",
    "    value=['males', 'females'], # initial value\n",
    "    rows=2, # rows of the selection box\n",
    "    description='sex',\n",
    "    disabled=False\n",
    ")\n",
    "\n",
    "output=wdg.interactive_output(GenAge_Plot, {'graphcolumns': GenAgecols})\n",
    "\n",
    "display(GenAgecols, output)\n"
   ]
  },
  {
   "cell_type": "markdown",
   "id": "413f2a38-e7d0-4c2d-906c-a065e7364e76",
   "metadata": {},
   "source": [
    "## Number of COVID Deaths in Males and Females by age group in England\n",
    "\n",
    "The below graph shows the number of COVID deaths seperated by Males and Females in the age groups from 0 to 90+. The data presented only includes COVID deaths in England. To see data for each sex seperately, please select maledeaths or femaledeaths in the sex category. To compare male and female Covid deaths, please hold control and click on both maledeaths and femaledeaths. "
   ]
  },
  {
   "cell_type": "code",
   "execution_count": 25,
   "id": "8233313a-eb20-41bd-abf8-a204748ace6f",
   "metadata": {},
   "outputs": [
    {
     "data": {
      "application/vnd.jupyter.widget-view+json": {
       "model_id": "a404cf7ec6824aea8f50411c307e51d3",
       "version_major": 2,
       "version_minor": 0
      },
      "text/plain": [
       "SelectMultiple(description='sex', index=(0, 1), options=('maledeaths', 'femaledeaths'), rows=2, value=('malede…"
      ]
     },
     "metadata": {},
     "output_type": "display_data"
    },
    {
     "data": {
      "application/vnd.jupyter.widget-view+json": {
       "model_id": "5e433a7ab37249d6bf7420ce5fcaf3f7",
       "version_major": 2,
       "version_minor": 0
      },
      "text/plain": [
       "Output()"
      ]
     },
     "metadata": {},
     "output_type": "display_data"
    }
   ],
   "source": [
    "GenDeathAgecols=wdg.SelectMultiple(\n",
    "    options=['maledeaths', 'femaledeaths'], # options available\n",
    "    value=['maledeaths', 'femaledeaths'], # initial value\n",
    "    rows=2, # rows of the selection box\n",
    "    description='sex',\n",
    "    disabled=False\n",
    ")\n",
    "\n",
    "output=wdg.interactive_output(GenAge_Plot, {'graphcolumns': GenDeathAgecols})\n",
    "\n",
    "display(GenDeathAgecols, output)"
   ]
  },
  {
   "cell_type": "markdown",
   "id": "d3427040-b1c3-4bd8-af1f-d12ba21a3c19",
   "metadata": {},
   "source": [
    "**Author and Copyright Notice** This dashboard was created by Zainab Haybe *Based on UK Government [data](https://coronavirus.data.gov.uk/) published by [Public Health England](https://www.gov.uk/government/organisations/public-health-england).*"
   ]
  },
  {
   "cell_type": "code",
   "execution_count": null,
   "id": "81094a40-2a33-4043-8b9d-18eb70d79988",
   "metadata": {},
   "outputs": [],
   "source": []
  }
 ],
 "metadata": {
  "kernelspec": {
   "display_name": "Python 3 (ipykernel)",
   "language": "python",
   "name": "python3"
  },
  "language_info": {
   "codemirror_mode": {
    "name": "ipython",
    "version": 3
   },
   "file_extension": ".py",
   "mimetype": "text/x-python",
   "name": "python",
   "nbconvert_exporter": "python",
   "pygments_lexer": "ipython3",
   "version": "3.9.6"
  }
 },
 "nbformat": 4,
 "nbformat_minor": 5
}
